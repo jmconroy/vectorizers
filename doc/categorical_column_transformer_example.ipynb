{
 "cells": [
  {
   "cell_type": "markdown",
   "metadata": {},
   "source": [
    "# Similarity between categorical data records\n",
    "\n",
    "We are interested in the problem of detecting similar records within categorical data.  These may be records which differ slightly due to data misentry, missing data fields, slight variations in reporting or coding or a variety of other factors.  Alternatively they may just be natural groupings of records within a particular data set. \n",
    "\n",
    "We will look at this problem from the perspective of inducing a similarity or distance function over the set of all records and then clustering the results into piles of near duplicate candidates for a human to either explore or to follow up and triage.  \n",
    "\n",
    "There are a variety of interesting ways to measure similarity between categorical records.  Many of them involve building a complex function testing matches and non-matches between rows.  Unfortunately, these approaches don't easily scale to very large amounts of data since they typically require $O(n^2)$ similarity comparisons.  For the purposes of this notebook we will make use of some recent advances in nearest neighbour search in order to reduce that complexity.  That may initially force us to restrict ourselves to simpler models.  In the case that these aren't sufficient one take an iterative approach where a coarse similarity measure was used to estimate which record pairs were likely near duplicates and a refined (and more expensive) similarity measure was applied to only those candidate records."
   ]
  },
  {
   "cell_type": "markdown",
   "metadata": {},
   "source": [
    "# Representation\n",
    "In order to make use of modern techniques we need to convert our data from columns of categorical values into numerical vectors.  There are a variety of ways to do this but by far the most common would be to use a **one hot encoding**.  That is to build a new column for each categorical variable name and value and then place a one in that new column if that particular value was present within a particular row.  \n",
    "\n",
    "Two of the most common are pandas [get_dummies](https://pandas.pydata.org/pandas-docs/version/0.23.3/generated/pandas.get_dummies.html) function or scikit-learns [OneHotEncoder](https://scikit-learn.org/stable/modules/generated/sklearn.preprocessing.OneHotEncoder.html).  Both are fine functions, but for large amounts of data (particulary if some of your columns have many values) you really want to ensure that you keep good track of your column names and maintain a sparse matrix representation.  A sparse matrix representation is one where you never actually write down any of the zero values.  This is important in a one-hot encoded representation because you have one column for every single categorical value in your data set.  If, for example, one of your columns contained a name or phone number then you could easily have added hundreds of thousands of (mostly zero) columns to every row within your data matrix.  For even medium sized data sets this can quickly exceed your computers memory limit.  \n",
    "\n",
    "For the purposes of this tutorial I'll make use of our Vectorizers library for performing this task."
   ]
  },
  {
   "cell_type": "markdown",
   "metadata": {},
   "source": [
    "# Import Some libraries\n",
    "\n",
    "We'll need CategoricalColumnTransformer and NgramVectorizer from our vectorizers library along with a few helper functions for dealing with our data and plotting it."
   ]
  },
  {
   "cell_type": "code",
   "execution_count": 1,
   "metadata": {
    "collapsed": false,
    "jupyter": {
     "outputs_hidden": false
    }
   },
   "outputs": [],
   "source": [
    "from vectorizers import NgramVectorizer\n",
    "from vectorizers.transformers import CategoricalColumnTransformer, InformationWeightTransformer\n",
    "from sklearn.decomposition import TruncatedSVD\n",
    "from random import sample\n",
    "\n",
    "import pandas as pd\n",
    "import numpy as np\n",
    "import umap\n",
    "import umap.plot"
   ]
  },
  {
   "cell_type": "markdown",
   "metadata": {},
   "source": [
    "We'll add some bokeh imports for easy interactive plots"
   ]
  },
  {
   "cell_type": "code",
   "execution_count": 2,
   "metadata": {},
   "outputs": [
    {
     "data": {
      "text/html": [
       "\n",
       "    <div class=\"bk-root\">\n",
       "        <a href=\"https://bokeh.org\" target=\"_blank\" class=\"bk-logo bk-logo-small bk-logo-notebook\"></a>\n",
       "        <span id=\"1002\">Loading BokehJS ...</span>\n",
       "    </div>"
      ]
     },
     "metadata": {},
     "output_type": "display_data"
    },
    {
     "data": {
      "application/javascript": [
       "\n",
       "(function(root) {\n",
       "  function now() {\n",
       "    return new Date();\n",
       "  }\n",
       "\n",
       "  var force = true;\n",
       "\n",
       "  if (typeof root._bokeh_onload_callbacks === \"undefined\" || force === true) {\n",
       "    root._bokeh_onload_callbacks = [];\n",
       "    root._bokeh_is_loading = undefined;\n",
       "  }\n",
       "\n",
       "  var JS_MIME_TYPE = 'application/javascript';\n",
       "  var HTML_MIME_TYPE = 'text/html';\n",
       "  var EXEC_MIME_TYPE = 'application/vnd.bokehjs_exec.v0+json';\n",
       "  var CLASS_NAME = 'output_bokeh rendered_html';\n",
       "\n",
       "  /**\n",
       "   * Render data to the DOM node\n",
       "   */\n",
       "  function render(props, node) {\n",
       "    var script = document.createElement(\"script\");\n",
       "    node.appendChild(script);\n",
       "  }\n",
       "\n",
       "  /**\n",
       "   * Handle when an output is cleared or removed\n",
       "   */\n",
       "  function handleClearOutput(event, handle) {\n",
       "    var cell = handle.cell;\n",
       "\n",
       "    var id = cell.output_area._bokeh_element_id;\n",
       "    var server_id = cell.output_area._bokeh_server_id;\n",
       "    // Clean up Bokeh references\n",
       "    if (id != null && id in Bokeh.index) {\n",
       "      Bokeh.index[id].model.document.clear();\n",
       "      delete Bokeh.index[id];\n",
       "    }\n",
       "\n",
       "    if (server_id !== undefined) {\n",
       "      // Clean up Bokeh references\n",
       "      var cmd = \"from bokeh.io.state import curstate; print(curstate().uuid_to_server['\" + server_id + \"'].get_sessions()[0].document.roots[0]._id)\";\n",
       "      cell.notebook.kernel.execute(cmd, {\n",
       "        iopub: {\n",
       "          output: function(msg) {\n",
       "            var id = msg.content.text.trim();\n",
       "            if (id in Bokeh.index) {\n",
       "              Bokeh.index[id].model.document.clear();\n",
       "              delete Bokeh.index[id];\n",
       "            }\n",
       "          }\n",
       "        }\n",
       "      });\n",
       "      // Destroy server and session\n",
       "      var cmd = \"import bokeh.io.notebook as ion; ion.destroy_server('\" + server_id + \"')\";\n",
       "      cell.notebook.kernel.execute(cmd);\n",
       "    }\n",
       "  }\n",
       "\n",
       "  /**\n",
       "   * Handle when a new output is added\n",
       "   */\n",
       "  function handleAddOutput(event, handle) {\n",
       "    var output_area = handle.output_area;\n",
       "    var output = handle.output;\n",
       "\n",
       "    // limit handleAddOutput to display_data with EXEC_MIME_TYPE content only\n",
       "    if ((output.output_type != \"display_data\") || (!Object.prototype.hasOwnProperty.call(output.data, EXEC_MIME_TYPE))) {\n",
       "      return\n",
       "    }\n",
       "\n",
       "    var toinsert = output_area.element.find(\".\" + CLASS_NAME.split(' ')[0]);\n",
       "\n",
       "    if (output.metadata[EXEC_MIME_TYPE][\"id\"] !== undefined) {\n",
       "      toinsert[toinsert.length - 1].firstChild.textContent = output.data[JS_MIME_TYPE];\n",
       "      // store reference to embed id on output_area\n",
       "      output_area._bokeh_element_id = output.metadata[EXEC_MIME_TYPE][\"id\"];\n",
       "    }\n",
       "    if (output.metadata[EXEC_MIME_TYPE][\"server_id\"] !== undefined) {\n",
       "      var bk_div = document.createElement(\"div\");\n",
       "      bk_div.innerHTML = output.data[HTML_MIME_TYPE];\n",
       "      var script_attrs = bk_div.children[0].attributes;\n",
       "      for (var i = 0; i < script_attrs.length; i++) {\n",
       "        toinsert[toinsert.length - 1].firstChild.setAttribute(script_attrs[i].name, script_attrs[i].value);\n",
       "        toinsert[toinsert.length - 1].firstChild.textContent = bk_div.children[0].textContent\n",
       "      }\n",
       "      // store reference to server id on output_area\n",
       "      output_area._bokeh_server_id = output.metadata[EXEC_MIME_TYPE][\"server_id\"];\n",
       "    }\n",
       "  }\n",
       "\n",
       "  function register_renderer(events, OutputArea) {\n",
       "\n",
       "    function append_mime(data, metadata, element) {\n",
       "      // create a DOM node to render to\n",
       "      var toinsert = this.create_output_subarea(\n",
       "        metadata,\n",
       "        CLASS_NAME,\n",
       "        EXEC_MIME_TYPE\n",
       "      );\n",
       "      this.keyboard_manager.register_events(toinsert);\n",
       "      // Render to node\n",
       "      var props = {data: data, metadata: metadata[EXEC_MIME_TYPE]};\n",
       "      render(props, toinsert[toinsert.length - 1]);\n",
       "      element.append(toinsert);\n",
       "      return toinsert\n",
       "    }\n",
       "\n",
       "    /* Handle when an output is cleared or removed */\n",
       "    events.on('clear_output.CodeCell', handleClearOutput);\n",
       "    events.on('delete.Cell', handleClearOutput);\n",
       "\n",
       "    /* Handle when a new output is added */\n",
       "    events.on('output_added.OutputArea', handleAddOutput);\n",
       "\n",
       "    /**\n",
       "     * Register the mime type and append_mime function with output_area\n",
       "     */\n",
       "    OutputArea.prototype.register_mime_type(EXEC_MIME_TYPE, append_mime, {\n",
       "      /* Is output safe? */\n",
       "      safe: true,\n",
       "      /* Index of renderer in `output_area.display_order` */\n",
       "      index: 0\n",
       "    });\n",
       "  }\n",
       "\n",
       "  // register the mime type if in Jupyter Notebook environment and previously unregistered\n",
       "  if (root.Jupyter !== undefined) {\n",
       "    var events = require('base/js/events');\n",
       "    var OutputArea = require('notebook/js/outputarea').OutputArea;\n",
       "\n",
       "    if (OutputArea.prototype.mime_types().indexOf(EXEC_MIME_TYPE) == -1) {\n",
       "      register_renderer(events, OutputArea);\n",
       "    }\n",
       "  }\n",
       "\n",
       "  \n",
       "  if (typeof (root._bokeh_timeout) === \"undefined\" || force === true) {\n",
       "    root._bokeh_timeout = Date.now() + 5000;\n",
       "    root._bokeh_failed_load = false;\n",
       "  }\n",
       "\n",
       "  var NB_LOAD_WARNING = {'data': {'text/html':\n",
       "     \"<div style='background-color: #fdd'>\\n\"+\n",
       "     \"<p>\\n\"+\n",
       "     \"BokehJS does not appear to have successfully loaded. If loading BokehJS from CDN, this \\n\"+\n",
       "     \"may be due to a slow or bad network connection. Possible fixes:\\n\"+\n",
       "     \"</p>\\n\"+\n",
       "     \"<ul>\\n\"+\n",
       "     \"<li>re-rerun `output_notebook()` to attempt to load from CDN again, or</li>\\n\"+\n",
       "     \"<li>use INLINE resources instead, as so:</li>\\n\"+\n",
       "     \"</ul>\\n\"+\n",
       "     \"<code>\\n\"+\n",
       "     \"from bokeh.resources import INLINE\\n\"+\n",
       "     \"output_notebook(resources=INLINE)\\n\"+\n",
       "     \"</code>\\n\"+\n",
       "     \"</div>\"}};\n",
       "\n",
       "  function display_loaded() {\n",
       "    var el = document.getElementById(\"1002\");\n",
       "    if (el != null) {\n",
       "      el.textContent = \"BokehJS is loading...\";\n",
       "    }\n",
       "    if (root.Bokeh !== undefined) {\n",
       "      if (el != null) {\n",
       "        el.textContent = \"BokehJS \" + root.Bokeh.version + \" successfully loaded.\";\n",
       "      }\n",
       "    } else if (Date.now() < root._bokeh_timeout) {\n",
       "      setTimeout(display_loaded, 100)\n",
       "    }\n",
       "  }\n",
       "\n",
       "\n",
       "  function run_callbacks() {\n",
       "    try {\n",
       "      root._bokeh_onload_callbacks.forEach(function(callback) {\n",
       "        if (callback != null)\n",
       "          callback();\n",
       "      });\n",
       "    } finally {\n",
       "      delete root._bokeh_onload_callbacks\n",
       "    }\n",
       "    console.debug(\"Bokeh: all callbacks have finished\");\n",
       "  }\n",
       "\n",
       "  function load_libs(css_urls, js_urls, callback) {\n",
       "    if (css_urls == null) css_urls = [];\n",
       "    if (js_urls == null) js_urls = [];\n",
       "\n",
       "    root._bokeh_onload_callbacks.push(callback);\n",
       "    if (root._bokeh_is_loading > 0) {\n",
       "      console.debug(\"Bokeh: BokehJS is being loaded, scheduling callback at\", now());\n",
       "      return null;\n",
       "    }\n",
       "    if (js_urls == null || js_urls.length === 0) {\n",
       "      run_callbacks();\n",
       "      return null;\n",
       "    }\n",
       "    console.debug(\"Bokeh: BokehJS not loaded, scheduling load and callback at\", now());\n",
       "    root._bokeh_is_loading = css_urls.length + js_urls.length;\n",
       "\n",
       "    function on_load() {\n",
       "      root._bokeh_is_loading--;\n",
       "      if (root._bokeh_is_loading === 0) {\n",
       "        console.debug(\"Bokeh: all BokehJS libraries/stylesheets loaded\");\n",
       "        run_callbacks()\n",
       "      }\n",
       "    }\n",
       "\n",
       "    function on_error(url) {\n",
       "      console.error(\"failed to load \" + url);\n",
       "    }\n",
       "\n",
       "    for (let i = 0; i < css_urls.length; i++) {\n",
       "      const url = css_urls[i];\n",
       "      const element = document.createElement(\"link\");\n",
       "      element.onload = on_load;\n",
       "      element.onerror = on_error.bind(null, url);\n",
       "      element.rel = \"stylesheet\";\n",
       "      element.type = \"text/css\";\n",
       "      element.href = url;\n",
       "      console.debug(\"Bokeh: injecting link tag for BokehJS stylesheet: \", url);\n",
       "      document.body.appendChild(element);\n",
       "    }\n",
       "\n",
       "    const hashes = {\"https://cdn.bokeh.org/bokeh/release/bokeh-2.3.3.min.js\": \"dM3QQsP+wXdHg42wTqW85BjZQdLNNIXqlPw/BgKoExPmTG7ZLML4EGqLMfqHT6ON\", \"https://cdn.bokeh.org/bokeh/release/bokeh-tables-2.3.3.min.js\": \"8x57I4YuIfu8XyZfFo0XVr2WAT8EK4rh/uDe3wF7YuW2FNUSNEpJbsPaB1nJ2fz2\", \"https://cdn.bokeh.org/bokeh/release/bokeh-widgets-2.3.3.min.js\": \"3QTqdz9LyAm2i0sG5XTePsHec3UHWwVsrOL68SYRoAXsafvfAyqtQ+h440+qIBhS\"};\n",
       "\n",
       "    for (let i = 0; i < js_urls.length; i++) {\n",
       "      const url = js_urls[i];\n",
       "      const element = document.createElement('script');\n",
       "      element.onload = on_load;\n",
       "      element.onerror = on_error.bind(null, url);\n",
       "      element.async = false;\n",
       "      element.src = url;\n",
       "      if (url in hashes) {\n",
       "        element.crossOrigin = \"anonymous\";\n",
       "        element.integrity = \"sha384-\" + hashes[url];\n",
       "      }\n",
       "      console.debug(\"Bokeh: injecting script tag for BokehJS library: \", url);\n",
       "      document.head.appendChild(element);\n",
       "    }\n",
       "  };\n",
       "\n",
       "  function inject_raw_css(css) {\n",
       "    const element = document.createElement(\"style\");\n",
       "    element.appendChild(document.createTextNode(css));\n",
       "    document.body.appendChild(element);\n",
       "  }\n",
       "\n",
       "  \n",
       "  var js_urls = [\"https://cdn.bokeh.org/bokeh/release/bokeh-2.3.3.min.js\", \"https://cdn.bokeh.org/bokeh/release/bokeh-widgets-2.3.3.min.js\", \"https://cdn.bokeh.org/bokeh/release/bokeh-tables-2.3.3.min.js\", \"https://unpkg.com/@holoviz/panel@0.12.0/dist/panel.min.js\"];\n",
       "  var css_urls = [];\n",
       "  \n",
       "\n",
       "  var inline_js = [\n",
       "    function(Bokeh) {\n",
       "      Bokeh.set_log_level(\"info\");\n",
       "    },\n",
       "    function(Bokeh) {\n",
       "    \n",
       "    \n",
       "    }\n",
       "  ];\n",
       "\n",
       "  function run_inline_js() {\n",
       "    \n",
       "    if (root.Bokeh !== undefined || force === true) {\n",
       "      \n",
       "    for (var i = 0; i < inline_js.length; i++) {\n",
       "      inline_js[i].call(root, root.Bokeh);\n",
       "    }\n",
       "    if (force === true) {\n",
       "        display_loaded();\n",
       "      }} else if (Date.now() < root._bokeh_timeout) {\n",
       "      setTimeout(run_inline_js, 100);\n",
       "    } else if (!root._bokeh_failed_load) {\n",
       "      console.log(\"Bokeh: BokehJS failed to load within specified timeout.\");\n",
       "      root._bokeh_failed_load = true;\n",
       "    } else if (force !== true) {\n",
       "      var cell = $(document.getElementById(\"1002\")).parents('.cell').data().cell;\n",
       "      cell.output_area.append_execute_result(NB_LOAD_WARNING)\n",
       "    }\n",
       "\n",
       "  }\n",
       "\n",
       "  if (root._bokeh_is_loading === 0) {\n",
       "    console.debug(\"Bokeh: BokehJS loaded, going straight to plotting\");\n",
       "    run_inline_js();\n",
       "  } else {\n",
       "    load_libs(css_urls, js_urls, function() {\n",
       "      console.debug(\"Bokeh: BokehJS plotting callback run at\", now());\n",
       "      run_inline_js();\n",
       "    });\n",
       "  }\n",
       "}(window));"
      ],
      "application/vnd.bokehjs_load.v0+json": "\n(function(root) {\n  function now() {\n    return new Date();\n  }\n\n  var force = true;\n\n  if (typeof root._bokeh_onload_callbacks === \"undefined\" || force === true) {\n    root._bokeh_onload_callbacks = [];\n    root._bokeh_is_loading = undefined;\n  }\n\n  \n\n  \n  if (typeof (root._bokeh_timeout) === \"undefined\" || force === true) {\n    root._bokeh_timeout = Date.now() + 5000;\n    root._bokeh_failed_load = false;\n  }\n\n  var NB_LOAD_WARNING = {'data': {'text/html':\n     \"<div style='background-color: #fdd'>\\n\"+\n     \"<p>\\n\"+\n     \"BokehJS does not appear to have successfully loaded. If loading BokehJS from CDN, this \\n\"+\n     \"may be due to a slow or bad network connection. Possible fixes:\\n\"+\n     \"</p>\\n\"+\n     \"<ul>\\n\"+\n     \"<li>re-rerun `output_notebook()` to attempt to load from CDN again, or</li>\\n\"+\n     \"<li>use INLINE resources instead, as so:</li>\\n\"+\n     \"</ul>\\n\"+\n     \"<code>\\n\"+\n     \"from bokeh.resources import INLINE\\n\"+\n     \"output_notebook(resources=INLINE)\\n\"+\n     \"</code>\\n\"+\n     \"</div>\"}};\n\n  function display_loaded() {\n    var el = document.getElementById(\"1002\");\n    if (el != null) {\n      el.textContent = \"BokehJS is loading...\";\n    }\n    if (root.Bokeh !== undefined) {\n      if (el != null) {\n        el.textContent = \"BokehJS \" + root.Bokeh.version + \" successfully loaded.\";\n      }\n    } else if (Date.now() < root._bokeh_timeout) {\n      setTimeout(display_loaded, 100)\n    }\n  }\n\n\n  function run_callbacks() {\n    try {\n      root._bokeh_onload_callbacks.forEach(function(callback) {\n        if (callback != null)\n          callback();\n      });\n    } finally {\n      delete root._bokeh_onload_callbacks\n    }\n    console.debug(\"Bokeh: all callbacks have finished\");\n  }\n\n  function load_libs(css_urls, js_urls, callback) {\n    if (css_urls == null) css_urls = [];\n    if (js_urls == null) js_urls = [];\n\n    root._bokeh_onload_callbacks.push(callback);\n    if (root._bokeh_is_loading > 0) {\n      console.debug(\"Bokeh: BokehJS is being loaded, scheduling callback at\", now());\n      return null;\n    }\n    if (js_urls == null || js_urls.length === 0) {\n      run_callbacks();\n      return null;\n    }\n    console.debug(\"Bokeh: BokehJS not loaded, scheduling load and callback at\", now());\n    root._bokeh_is_loading = css_urls.length + js_urls.length;\n\n    function on_load() {\n      root._bokeh_is_loading--;\n      if (root._bokeh_is_loading === 0) {\n        console.debug(\"Bokeh: all BokehJS libraries/stylesheets loaded\");\n        run_callbacks()\n      }\n    }\n\n    function on_error(url) {\n      console.error(\"failed to load \" + url);\n    }\n\n    for (let i = 0; i < css_urls.length; i++) {\n      const url = css_urls[i];\n      const element = document.createElement(\"link\");\n      element.onload = on_load;\n      element.onerror = on_error.bind(null, url);\n      element.rel = \"stylesheet\";\n      element.type = \"text/css\";\n      element.href = url;\n      console.debug(\"Bokeh: injecting link tag for BokehJS stylesheet: \", url);\n      document.body.appendChild(element);\n    }\n\n    const hashes = {\"https://cdn.bokeh.org/bokeh/release/bokeh-2.3.3.min.js\": \"dM3QQsP+wXdHg42wTqW85BjZQdLNNIXqlPw/BgKoExPmTG7ZLML4EGqLMfqHT6ON\", \"https://cdn.bokeh.org/bokeh/release/bokeh-tables-2.3.3.min.js\": \"8x57I4YuIfu8XyZfFo0XVr2WAT8EK4rh/uDe3wF7YuW2FNUSNEpJbsPaB1nJ2fz2\", \"https://cdn.bokeh.org/bokeh/release/bokeh-widgets-2.3.3.min.js\": \"3QTqdz9LyAm2i0sG5XTePsHec3UHWwVsrOL68SYRoAXsafvfAyqtQ+h440+qIBhS\"};\n\n    for (let i = 0; i < js_urls.length; i++) {\n      const url = js_urls[i];\n      const element = document.createElement('script');\n      element.onload = on_load;\n      element.onerror = on_error.bind(null, url);\n      element.async = false;\n      element.src = url;\n      if (url in hashes) {\n        element.crossOrigin = \"anonymous\";\n        element.integrity = \"sha384-\" + hashes[url];\n      }\n      console.debug(\"Bokeh: injecting script tag for BokehJS library: \", url);\n      document.head.appendChild(element);\n    }\n  };\n\n  function inject_raw_css(css) {\n    const element = document.createElement(\"style\");\n    element.appendChild(document.createTextNode(css));\n    document.body.appendChild(element);\n  }\n\n  \n  var js_urls = [\"https://cdn.bokeh.org/bokeh/release/bokeh-2.3.3.min.js\", \"https://cdn.bokeh.org/bokeh/release/bokeh-widgets-2.3.3.min.js\", \"https://cdn.bokeh.org/bokeh/release/bokeh-tables-2.3.3.min.js\", \"https://unpkg.com/@holoviz/panel@0.12.0/dist/panel.min.js\"];\n  var css_urls = [];\n  \n\n  var inline_js = [\n    function(Bokeh) {\n      Bokeh.set_log_level(\"info\");\n    },\n    function(Bokeh) {\n    \n    \n    }\n  ];\n\n  function run_inline_js() {\n    \n    if (root.Bokeh !== undefined || force === true) {\n      \n    for (var i = 0; i < inline_js.length; i++) {\n      inline_js[i].call(root, root.Bokeh);\n    }\n    if (force === true) {\n        display_loaded();\n      }} else if (Date.now() < root._bokeh_timeout) {\n      setTimeout(run_inline_js, 100);\n    } else if (!root._bokeh_failed_load) {\n      console.log(\"Bokeh: BokehJS failed to load within specified timeout.\");\n      root._bokeh_failed_load = true;\n    } else if (force !== true) {\n      var cell = $(document.getElementById(\"1002\")).parents('.cell').data().cell;\n      cell.output_area.append_execute_result(NB_LOAD_WARNING)\n    }\n\n  }\n\n  if (root._bokeh_is_loading === 0) {\n    console.debug(\"Bokeh: BokehJS loaded, going straight to plotting\");\n    run_inline_js();\n  } else {\n    load_libs(css_urls, js_urls, function() {\n      console.debug(\"Bokeh: BokehJS plotting callback run at\", now());\n      run_inline_js();\n    });\n  }\n}(window));"
     },
     "metadata": {},
     "output_type": "display_data"
    }
   ],
   "source": [
    "import bokeh.io\n",
    "bokeh.io.output_notebook()"
   ]
  },
  {
   "cell_type": "markdown",
   "metadata": {},
   "source": [
    "# Let's fetch some data\n",
    "\n",
    "Health Canada has made some of it's reporting available to the public so this is a nice, real world, data set that we can use for examining potential near duplicate entries amongst categorical records.  The data set is [Canada Vigilance Adverse Reaction Online Database - Data Structure](https://www.canada.ca/en/health-canada/services/drugs-health-products/medeffect-canada/adverse-reaction-database/canada-vigilance-adverse-reaction-online-database-data-structures.html#a1).  When there are adverse reactions to drugs within Canada hospitals and manufacturers must report these problems to Health Canada.  We'll make use of this data to see if we can find interesting structure contained within categorical record data.\n",
    "\n",
    "For ease of reproducibility, we'll download and extract the files directly in this notebook."
   ]
  },
  {
   "cell_type": "code",
   "execution_count": 3,
   "metadata": {},
   "outputs": [],
   "source": [
    "import requests\n",
    "import zipfile\n",
    "import os"
   ]
  },
  {
   "cell_type": "markdown",
   "metadata": {},
   "source": [
    "Download the file only if it isn't already on our computer."
   ]
  },
  {
   "cell_type": "code",
   "execution_count": 4,
   "metadata": {},
   "outputs": [],
   "source": [
    "if not os.path.isfile('extract_extrait.zip'):\n",
    "    print(\"Failed to find the data file, downloading... \")\n",
    "    results = requests.get('https://www.canada.ca/content/dam/hc-sc/migration/hc-sc/dhp-mps/alt_formats/zip/medeff/databasdon/extract_extrait.zip')\n",
    "    with open(\"extract_extrait.zip\", \"wb\") as code:\n",
    "        code.write(results.content)"
   ]
  },
  {
   "cell_type": "code",
   "execution_count": 5,
   "metadata": {},
   "outputs": [
    {
     "data": {
      "text/plain": [
       "['cvponline_extract_20210331/drug_product_ingredients.txt',\n",
       " 'cvponline_extract_20210331/drug_products.txt',\n",
       " 'cvponline_extract_20210331/gender_lx.txt',\n",
       " 'cvponline_extract_20210331/literature_reference.txt',\n",
       " 'cvponline_extract_20210331/outcome_lx.txt',\n",
       " 'cvponline_extract_20210331/reactions.txt',\n",
       " 'cvponline_extract_20210331/report_drug_indication.txt',\n",
       " 'cvponline_extract_20210331/report_drug.txt',\n",
       " 'cvponline_extract_20210331/report_links.txt',\n",
       " 'cvponline_extract_20210331/reports.txt',\n",
       " 'cvponline_extract_20210331/report_type_lx.txt',\n",
       " 'cvponline_extract_20210331/seriousness_lx.txt',\n",
       " 'cvponline_extract_20210331/source_lx.txt']"
      ]
     },
     "execution_count": 5,
     "metadata": {},
     "output_type": "execute_result"
    }
   ],
   "source": [
    "zipped = zipfile.ZipFile('extract_extrait.zip')\n",
    "zipped.namelist()"
   ]
  },
  {
   "cell_type": "markdown",
   "metadata": {},
   "source": [
    "Extract he file if it isn't already uncompressed."
   ]
  },
  {
   "cell_type": "code",
   "execution_count": 6,
   "metadata": {},
   "outputs": [],
   "source": [
    "if not os.path.isfile('cvponline_extract_20210331/reactions.txt'):\n",
    "    print(\"Failed to find the uncompressed input file, extracting... \")\n",
    "    zipped.extractall()"
   ]
  },
  {
   "cell_type": "markdown",
   "metadata": {},
   "source": [
    "Now let's load up one of the more useful text files into a pandas data frame for manipulation.\n",
    "\n",
    "It should be noted that these are, unfortunatly, only text dumps of the contents of a database and as such don't contain any reference to their column names.  To get those column names we're forced to go to the web linked above and cut and paste these column names directly into our code.  "
   ]
  },
  {
   "cell_type": "code",
   "execution_count": 7,
   "metadata": {},
   "outputs": [
    {
     "data": {
      "text/plain": [
       "(874172, 42)"
      ]
     },
     "execution_count": 7,
     "metadata": {},
     "output_type": "execute_result"
    }
   ],
   "source": [
    "input_file = 'cvponline_extract_20210331/reports.txt'\n",
    "data = pd.read_csv(input_file, sep='$', header=None, low_memory=False)\n",
    "column_names = 'REPORT_ID,REPORT_NO,VERSION_NO,DATRECEIVED,DATINTRECEIVED,MAH_NO,REPORT_TYPE_CODE,REPORT_TYPE_ENG,REPORT_TYPE_FR,GENDER_CODE,GENDER_ENG,GENDER_FR,AGE,AGE_Y,AGE_UNIT_ENG,AGE_UNIT_FR,OUTCOME_CODE,OUTCOME_ENG,OUTCOME_FR,WEIGHT,WEIGHT_UNIT_ENG,WEIGHT_UNIT_FR,HEIGHT,HEIGHT_UNIT_ENG,HEIGHT_UNIT_FR,SERIOUSNESS_CODE,SERIOUSNESS_ENG,SERIOUSNESS_FR,DEATH,DISABILITY,CONGENITAL_ANOMALY,LIFE_THREATENING,HOSP_REQUIRED,OTHER_MEDICALLY_IMP_COND,REPORTER_TYPE_ENG,REPORTER_TYPE_FR,SOURCE_CODE,SOURCE_ENG,SOURCE_FR,E2B_IMP_SAFETYREPORT_ID,AUTHORITY_NUMB,COMPANY_NUMB'.split(\",\")\n",
    "data.columns = column_names\n",
    "data.shape"
   ]
  },
  {
   "cell_type": "code",
   "execution_count": 8,
   "metadata": {},
   "outputs": [
    {
     "data": {
      "text/html": [
       "<div>\n",
       "<style scoped>\n",
       "    .dataframe tbody tr th:only-of-type {\n",
       "        vertical-align: middle;\n",
       "    }\n",
       "\n",
       "    .dataframe tbody tr th {\n",
       "        vertical-align: top;\n",
       "    }\n",
       "\n",
       "    .dataframe thead th {\n",
       "        text-align: right;\n",
       "    }\n",
       "</style>\n",
       "<table border=\"1\" class=\"dataframe\">\n",
       "  <thead>\n",
       "    <tr style=\"text-align: right;\">\n",
       "      <th></th>\n",
       "      <th>REPORT_ID</th>\n",
       "      <th>REPORT_NO</th>\n",
       "      <th>VERSION_NO</th>\n",
       "      <th>DATRECEIVED</th>\n",
       "      <th>DATINTRECEIVED</th>\n",
       "      <th>MAH_NO</th>\n",
       "      <th>REPORT_TYPE_CODE</th>\n",
       "      <th>REPORT_TYPE_ENG</th>\n",
       "      <th>REPORT_TYPE_FR</th>\n",
       "      <th>GENDER_CODE</th>\n",
       "      <th>...</th>\n",
       "      <th>HOSP_REQUIRED</th>\n",
       "      <th>OTHER_MEDICALLY_IMP_COND</th>\n",
       "      <th>REPORTER_TYPE_ENG</th>\n",
       "      <th>REPORTER_TYPE_FR</th>\n",
       "      <th>SOURCE_CODE</th>\n",
       "      <th>SOURCE_ENG</th>\n",
       "      <th>SOURCE_FR</th>\n",
       "      <th>E2B_IMP_SAFETYREPORT_ID</th>\n",
       "      <th>AUTHORITY_NUMB</th>\n",
       "      <th>COMPANY_NUMB</th>\n",
       "    </tr>\n",
       "  </thead>\n",
       "  <tbody>\n",
       "    <tr>\n",
       "      <th>0</th>\n",
       "      <td>1</td>\n",
       "      <td>000000001</td>\n",
       "      <td>0</td>\n",
       "      <td>05-JUN-73</td>\n",
       "      <td>05-JUN-73</td>\n",
       "      <td>NaN</td>\n",
       "      <td>7.0</td>\n",
       "      <td>Spontaneous</td>\n",
       "      <td>Déclaration spontanée</td>\n",
       "      <td>2.0</td>\n",
       "      <td>...</td>\n",
       "      <td>NaN</td>\n",
       "      <td>NaN</td>\n",
       "      <td>Physician</td>\n",
       "      <td>Physicien</td>\n",
       "      <td>NaN</td>\n",
       "      <td>NaN</td>\n",
       "      <td>NaN</td>\n",
       "      <td>NaN</td>\n",
       "      <td>NaN</td>\n",
       "      <td>NaN</td>\n",
       "    </tr>\n",
       "    <tr>\n",
       "      <th>1</th>\n",
       "      <td>2</td>\n",
       "      <td>000000002</td>\n",
       "      <td>0</td>\n",
       "      <td>05-JUN-73</td>\n",
       "      <td>05-JUN-73</td>\n",
       "      <td>NaN</td>\n",
       "      <td>7.0</td>\n",
       "      <td>Spontaneous</td>\n",
       "      <td>Déclaration spontanée</td>\n",
       "      <td>2.0</td>\n",
       "      <td>...</td>\n",
       "      <td>NaN</td>\n",
       "      <td>NaN</td>\n",
       "      <td>NaN</td>\n",
       "      <td>NaN</td>\n",
       "      <td>3.0</td>\n",
       "      <td>Hospital</td>\n",
       "      <td>Hôpital</td>\n",
       "      <td>NaN</td>\n",
       "      <td>NaN</td>\n",
       "      <td>NaN</td>\n",
       "    </tr>\n",
       "    <tr>\n",
       "      <th>2</th>\n",
       "      <td>3</td>\n",
       "      <td>000000003</td>\n",
       "      <td>0</td>\n",
       "      <td>05-JUN-73</td>\n",
       "      <td>05-JUN-73</td>\n",
       "      <td>NaN</td>\n",
       "      <td>7.0</td>\n",
       "      <td>Spontaneous</td>\n",
       "      <td>Déclaration spontanée</td>\n",
       "      <td>1.0</td>\n",
       "      <td>...</td>\n",
       "      <td>NaN</td>\n",
       "      <td>NaN</td>\n",
       "      <td>NaN</td>\n",
       "      <td>NaN</td>\n",
       "      <td>3.0</td>\n",
       "      <td>Hospital</td>\n",
       "      <td>Hôpital</td>\n",
       "      <td>NaN</td>\n",
       "      <td>NaN</td>\n",
       "      <td>NaN</td>\n",
       "    </tr>\n",
       "  </tbody>\n",
       "</table>\n",
       "<p>3 rows × 42 columns</p>\n",
       "</div>"
      ],
      "text/plain": [
       "   REPORT_ID  REPORT_NO  VERSION_NO DATRECEIVED DATINTRECEIVED MAH_NO  \\\n",
       "0          1  000000001           0   05-JUN-73      05-JUN-73    NaN   \n",
       "1          2  000000002           0   05-JUN-73      05-JUN-73    NaN   \n",
       "2          3  000000003           0   05-JUN-73      05-JUN-73    NaN   \n",
       "\n",
       "   REPORT_TYPE_CODE REPORT_TYPE_ENG         REPORT_TYPE_FR  GENDER_CODE  ...  \\\n",
       "0               7.0     Spontaneous  Déclaration spontanée          2.0  ...   \n",
       "1               7.0     Spontaneous  Déclaration spontanée          2.0  ...   \n",
       "2               7.0     Spontaneous  Déclaration spontanée          1.0  ...   \n",
       "\n",
       "  HOSP_REQUIRED OTHER_MEDICALLY_IMP_COND  REPORTER_TYPE_ENG  REPORTER_TYPE_FR  \\\n",
       "0           NaN                      NaN          Physician         Physicien   \n",
       "1           NaN                      NaN                NaN               NaN   \n",
       "2           NaN                      NaN                NaN               NaN   \n",
       "\n",
       "  SOURCE_CODE SOURCE_ENG SOURCE_FR E2B_IMP_SAFETYREPORT_ID AUTHORITY_NUMB  \\\n",
       "0         NaN        NaN       NaN                     NaN            NaN   \n",
       "1         3.0   Hospital   Hôpital                     NaN            NaN   \n",
       "2         3.0   Hospital   Hôpital                     NaN            NaN   \n",
       "\n",
       "   COMPANY_NUMB  \n",
       "0           NaN  \n",
       "1           NaN  \n",
       "2           NaN  \n",
       "\n",
       "[3 rows x 42 columns]"
      ]
     },
     "execution_count": 8,
     "metadata": {},
     "output_type": "execute_result"
    }
   ],
   "source": [
    "data.head(3)"
   ]
  },
  {
   "cell_type": "markdown",
   "metadata": {},
   "source": [
    "# Restructure our data\n",
    "\n",
    "Now we need to restructure this data into a format for easy consumption via our Vectorizers library.  This format will make it very efficient for measuring the similarity between records that are made up of multiple categorical variables.  \n",
    "\n",
    "To do this we must first decide which object from our data we are interested in examining and measuring similarity between.  We are going to refer to these as our objects.  In the case of this data our objects are our adverse reaction reports.\n",
    "\n",
    "We also need to decide which categorical columns in our data frame we are going to use as descriptors for these objects.  \n",
    "\n",
    "We will use our <code>CategoricalColumnTransformer</code> from our Vectorizers library to construct a new pandas Series with the index being our objects and the values being the corresponding list of categorical values associated with each object.  Notionaly, we've decided to say that two objects are similar if they match on many of these categorical values. \n",
    "\n",
    "Since we're combining categorical values from multiple columns we should also append the column name to each categorical value in order to be sure to not confuse things.  We'll set <code>include_column_name=True</code> in order to have our categorical descriptors take the form of the string <code>f'{column_name}:{value}'</code>."
   ]
  },
  {
   "cell_type": "code",
   "execution_count": 9,
   "metadata": {},
   "outputs": [
    {
     "name": "stdout",
     "output_type": "stream",
     "text": [
      "CPU times: user 11.4 s, sys: 212 ms, total: 11.6 s\n",
      "Wall time: 11.6 s\n"
     ]
    },
    {
     "data": {
      "text/plain": [
       "874172"
      ]
     },
     "execution_count": 9,
     "metadata": {},
     "output_type": "execute_result"
    }
   ],
   "source": [
    "%%time\n",
    "report_list = CategoricalColumnTransformer(object_column_name='REPORT_ID',\n",
    "                                            descriptor_column_name=['GENDER_ENG','OUTCOME_ENG'],\n",
    "                                            include_column_name=True).fit_transform(data)\n",
    "len(report_list)"
   ]
  },
  {
   "cell_type": "markdown",
   "metadata": {},
   "source": [
    "Since we had one <code>REPORT_ID</code> for every row in our data frame we now a series of the same length with a list of at most two descriptors assicated with each."
   ]
  },
  {
   "cell_type": "code",
   "execution_count": 10,
   "metadata": {},
   "outputs": [
    {
     "data": {
      "text/plain": [
       "REPORT_ID\n",
       "1    [GENDER_ENG:Female, OUTCOME_ENG:Unknown]\n",
       "2    [GENDER_ENG:Female, OUTCOME_ENG:Unknown]\n",
       "3      [GENDER_ENG:Male, OUTCOME_ENG:Unknown]\n",
       "dtype: object"
      ]
     },
     "execution_count": 10,
     "metadata": {},
     "output_type": "execute_result"
    }
   ],
   "source": [
    "report_list.head(3)"
   ]
  },
  {
   "cell_type": "code",
   "execution_count": 11,
   "metadata": {},
   "outputs": [
    {
     "data": {
      "text/plain": [
       "2    827337\n",
       "1     46833\n",
       "0         2\n",
       "dtype: int64"
      ]
     },
     "execution_count": 11,
     "metadata": {},
     "output_type": "execute_result"
    }
   ],
   "source": [
    "report_list.apply(len).value_counts()"
   ]
  },
  {
   "cell_type": "markdown",
   "metadata": {},
   "source": [
    "We implicitely filter all categorical values that are Null.  As we see here, this can result in smaller or empty lists.  Around 46,000 records only had one of our fields present and 2 of our records had neither field present."
   ]
  },
  {
   "cell_type": "markdown",
   "metadata": {},
   "source": [
    "### Enrich with reactions\n",
    "\n",
    "In order to find out what the reports we are interested in are actually about we need to enrich this data with the adverse reaction being reported.  This information comes from the reactions table which contains just over 3 million reactions associated with our reports.  <code>REPORT_ID</code> is also contained in this table so it can also be used to describe our objects of interest, but now we will describe our reports as a list of the categorical values contained within the <code>PT_NAME_ENG</code> column.  This is the Adverse Reaction Term column. "
   ]
  },
  {
   "cell_type": "code",
   "execution_count": 12,
   "metadata": {},
   "outputs": [
    {
     "data": {
      "text/plain": [
       "(3173448, 10)"
      ]
     },
     "execution_count": 12,
     "metadata": {},
     "output_type": "execute_result"
    }
   ],
   "source": [
    "data = pd.read_csv('cvponline_extract_20210331/reactions.txt', sep='$', header=None, low_memory=False)\n",
    "column_names = 'REACTION_ID,REPORT_ID,DURATION,DURATION_UNIT_ENG,DURATION_UNIT_FR,PT_NAME_ENG,PT_NAME_FR,SOC_NAME_ENG,SOC_NAME_FR,MEDDRA_VERSION'.split(',')\n",
    "data.columns = column_names\n",
    "data.shape"
   ]
  },
  {
   "cell_type": "markdown",
   "metadata": {},
   "source": [
    "Of note here, we have more rows than objects of interest.  That is because a single report can be responsible for multiple reactions. That is going to necessitate grouping up the rows with the same <code>REPORT_ID</code> we can do this with a pandas groupby manually but this is exactly what our CategoricalColumnTransformer is doing under the hood.  As such, just as before, we simply specify our <code>object_column_name</code> and the columns from this table that we'd like to use as descriptors and apply our transformer."
   ]
  },
  {
   "cell_type": "code",
   "execution_count": 13,
   "metadata": {},
   "outputs": [
    {
     "name": "stdout",
     "output_type": "stream",
     "text": [
      "CPU times: user 7.32 s, sys: 71.6 ms, total: 7.39 s\n",
      "Wall time: 7.38 s\n"
     ]
    },
    {
     "data": {
      "text/plain": [
       "873585"
      ]
     },
     "execution_count": 13,
     "metadata": {},
     "output_type": "execute_result"
    }
   ],
   "source": [
    "%%time\n",
    "reaction_list = CategoricalColumnTransformer(object_column_name='REPORT_ID',\n",
    "                                            descriptor_column_name='PT_NAME_ENG',\n",
    "                                            include_column_name=True).fit_transform(data)\n",
    "len(reaction_list)"
   ]
  },
  {
   "cell_type": "markdown",
   "metadata": {},
   "source": [
    "Now, just as before, we have a series with an index that is <code>REPORT_ID</code> and values that are lists of descriptors (strings)."
   ]
  },
  {
   "cell_type": "code",
   "execution_count": 14,
   "metadata": {},
   "outputs": [
    {
     "data": {
      "text/plain": [
       "REPORT_ID\n",
       "1           [PT_NAME_ENG:Pruritus, PT_NAME_ENG:Oedema]\n",
       "2                              [PT_NAME_ENG:Urticaria]\n",
       "3    [PT_NAME_ENG:Erythema, PT_NAME_ENG:Periorbital...\n",
       "dtype: object"
      ]
     },
     "execution_count": 14,
     "metadata": {},
     "output_type": "execute_result"
    }
   ],
   "source": [
    "reaction_list.head(3)"
   ]
  },
  {
   "cell_type": "markdown",
   "metadata": {},
   "source": [
    "# Drug ingredient data"
   ]
  },
  {
   "cell_type": "markdown",
   "metadata": {},
   "source": [
    "Lastly, we will include some categorical columns to describe the drug being reported on.  This will give us the oportunity to see how we might make use a pair of linked tables to enrich our data further.  It will also give us enough descriptors to induce an interesting notion of similarity on our data.  Similarity measures based on very few categorical values will end up with a tremendous number of records at exactly the same distance making for an uninteresting metric space that is also difficult to work with.\n",
    "\n",
    "To do this we will enrich our reports with the name of the drug involved in the report and the active ingredients which make up that drug.  We've included the active ingredients in this notion to because there are a wide variety of drugs with different names that contain the same drug.  For example, there are over three hundred different drugs who's only active ingredient is listed as cannabis.  We'd like our notion of distance to treat reports about these drugs as being similar.  \n",
    "\n",
    "As before, we load the table that contains our active ingredients for each drug we know about."
   ]
  },
  {
   "cell_type": "code",
   "execution_count": 15,
   "metadata": {},
   "outputs": [
    {
     "data": {
      "text/plain": [
       "(321628, 5)"
      ]
     },
     "execution_count": 15,
     "metadata": {},
     "output_type": "execute_result"
    }
   ],
   "source": [
    "input_file = 'cvponline_extract_20210331/drug_product_ingredients.txt'\n",
    "data = pd.read_csv(input_file, sep='$', header=None, low_memory=False)\n",
    "column_names = 'DRUG_PRODUCT_INGREDIENT_ID,DRUG_PRODUCT_ID,DRUGNAME,ACTIVE_INGREDIENT_ID,ACTIVE_INGREDIENT_NAME'.split(\",\")\n",
    "data.columns = column_names\n",
    "data.shape"
   ]
  },
  {
   "cell_type": "markdown",
   "metadata": {},
   "source": [
    "The first thing we notice is that this table has no concept of reports or a <code>REPORT_ID</code>.  In order to get this information we will have to load a another table which contains this linking information.  Since we only want to use this table to link our drug ids with our report ids we will only load the two columns of interest from our file."
   ]
  },
  {
   "cell_type": "code",
   "execution_count": 16,
   "metadata": {},
   "outputs": [
    {
     "data": {
      "text/plain": [
       "(3477736, 2)"
      ]
     },
     "execution_count": 16,
     "metadata": {},
     "output_type": "execute_result"
    }
   ],
   "source": [
    "input_file = 'cvponline_extract_20210331/report_drug.txt'\n",
    "drug2report_joining = pd.read_csv(input_file, sep='$', header=None, low_memory=False, usecols=[1,2])\n",
    "drug2report_joining.columns = 'REPORT_ID,DRUG_PRODUCT_ID'.split(',')\n",
    "drug2report_joining.shape"
   ]
  },
  {
   "cell_type": "markdown",
   "metadata": {},
   "source": [
    "Now we make use of pandas excellent merge function to perform an inner join between this data.  This will create a new DataFrame that contains both our ingredient lists as well as the reports which their corresponding drugs were contained in.  \n",
    "\n",
    "It should be noted that this is a much larger table due to the fact any given drug may have many reports associated with it."
   ]
  },
  {
   "cell_type": "code",
   "execution_count": 17,
   "metadata": {},
   "outputs": [
    {
     "data": {
      "text/plain": [
       "(16397750, 6)"
      ]
     },
     "execution_count": 17,
     "metadata": {},
     "output_type": "execute_result"
    }
   ],
   "source": [
    "merged_data = data.merge(drug2report_joining, how='inner', on='DRUG_PRODUCT_ID')\n",
    "merged_data.shape"
   ]
  },
  {
   "cell_type": "markdown",
   "metadata": {},
   "source": [
    "Lastly, we deploy our <code>CategoricalColumnTransformer</code> in order to reduce this data to an pandas Series containing lists of our categorical column values of interest and indexed by our column of interest, <code>REPORT_ID</code>. We've included <code>unique_values=True</code> in this transformer to ensure that any report that potentially contains multiple drugs with overlapping ingredients is only represented by the unique set of ingredients across all the drugs involved."
   ]
  },
  {
   "cell_type": "code",
   "execution_count": 18,
   "metadata": {},
   "outputs": [
    {
     "name": "stdout",
     "output_type": "stream",
     "text": [
      "CPU times: user 1min 18s, sys: 1.44 s, total: 1min 20s\n",
      "Wall time: 1min 20s\n"
     ]
    },
    {
     "data": {
      "text/plain": [
       "870764"
      ]
     },
     "execution_count": 18,
     "metadata": {},
     "output_type": "execute_result"
    }
   ],
   "source": [
    "%%time\n",
    "report_drug_ingredient_list = CategoricalColumnTransformer(object_column_name='REPORT_ID',\n",
    "                                            descriptor_column_name=['DRUGNAME','ACTIVE_INGREDIENT_NAME'],\n",
    "                                            include_column_name=True, unique_values=True).fit_transform(merged_data)\n",
    "len(report_drug_ingredient_list)"
   ]
  },
  {
   "cell_type": "code",
   "execution_count": 19,
   "metadata": {},
   "outputs": [
    {
     "data": {
      "text/plain": [
       "REPORT_ID\n",
       "1    [DRUGNAME:GANTRISIN, ACTIVE_INGREDIENT_NAME:su...\n",
       "2    [DRUGNAME:PENBRITIN, ACTIVE_INGREDIENT_NAME:am...\n",
       "3    [DRUGNAME:NEOSPORIN OINTMENT, ACTIVE_INGREDIEN...\n",
       "dtype: object"
      ]
     },
     "execution_count": 19,
     "metadata": {},
     "output_type": "execute_result"
    }
   ],
   "source": [
    "report_drug_ingredient_list.head(3)"
   ]
  },
  {
   "cell_type": "code",
   "execution_count": 20,
   "metadata": {},
   "outputs": [
    {
     "data": {
      "text/plain": [
       "2      85876\n",
       "3      77347\n",
       "4      46233\n",
       "5      49716\n",
       "6      35126\n",
       "       ...  \n",
       "680        1\n",
       "691        1\n",
       "724        1\n",
       "792        1\n",
       "815        1\n",
       "Length: 393, dtype: int64"
      ]
     },
     "execution_count": 20,
     "metadata": {},
     "output_type": "execute_result"
    }
   ],
   "source": [
    "report_drug_ingredient_list.apply(len).value_counts().sort_index()"
   ]
  },
  {
   "cell_type": "markdown",
   "metadata": {},
   "source": [
    "We see that no report contains less than two tokens in our new representation.  One from its DRUGNAME and one from its ACTIVE_INGREDIENT.  In other words all drugs have both a name and at least one active ingredient.   On the other end of the spectrum there is a drug that has been reported on that contain closer to 814 active ingredients.  \n",
    "\n",
    "That last statement should be taken with a grain of salt since in this particular data set various synonyms for drug ingredients are sometimes recorded multiple times for a given drug.  "
   ]
  },
  {
   "cell_type": "markdown",
   "metadata": {},
   "source": [
    "## Combine our series\n",
    "\n",
    "Now we have three pandas Series each indexed by <code>REPORT_ID</code> and containing a list of strings representing our categorical values.\n",
    "\n",
    "Since these series all share an index we can use pandas <code>concat</code> to join them together.  For those familiar with database terminology this can be done via either an outer or inner join.  An outer join says that if an object is present in either series index it will be included in our results.  An inner join requires the index to be present in all of our series.\n",
    "\n",
    "Outer joins may introduce NaN into our newly joined_df if some of our index values aren't present in all series.  Since pandas doesn't allow us to fillna with lists we would have to do this manually ourselves via the commented code included below.  In this case we are are performing an inner join since we only care about reports that have both symptoms and drugs associated with them."
   ]
  },
  {
   "cell_type": "code",
   "execution_count": 21,
   "metadata": {},
   "outputs": [
    {
     "name": "stdout",
     "output_type": "stream",
     "text": [
      "870240 records joined\n"
     ]
    },
    {
     "data": {
      "text/html": [
       "<div>\n",
       "<style scoped>\n",
       "    .dataframe tbody tr th:only-of-type {\n",
       "        vertical-align: middle;\n",
       "    }\n",
       "\n",
       "    .dataframe tbody tr th {\n",
       "        vertical-align: top;\n",
       "    }\n",
       "\n",
       "    .dataframe thead th {\n",
       "        text-align: right;\n",
       "    }\n",
       "</style>\n",
       "<table border=\"1\" class=\"dataframe\">\n",
       "  <thead>\n",
       "    <tr style=\"text-align: right;\">\n",
       "      <th></th>\n",
       "      <th>0</th>\n",
       "      <th>1</th>\n",
       "      <th>2</th>\n",
       "    </tr>\n",
       "    <tr>\n",
       "      <th>REPORT_ID</th>\n",
       "      <th></th>\n",
       "      <th></th>\n",
       "      <th></th>\n",
       "    </tr>\n",
       "  </thead>\n",
       "  <tbody>\n",
       "    <tr>\n",
       "      <th>1</th>\n",
       "      <td>[GENDER_ENG:Female, OUTCOME_ENG:Unknown]</td>\n",
       "      <td>[PT_NAME_ENG:Pruritus, PT_NAME_ENG:Oedema]</td>\n",
       "      <td>[DRUGNAME:GANTRISIN, ACTIVE_INGREDIENT_NAME:su...</td>\n",
       "    </tr>\n",
       "    <tr>\n",
       "      <th>2</th>\n",
       "      <td>[GENDER_ENG:Female, OUTCOME_ENG:Unknown]</td>\n",
       "      <td>[PT_NAME_ENG:Urticaria]</td>\n",
       "      <td>[DRUGNAME:PENBRITIN, ACTIVE_INGREDIENT_NAME:am...</td>\n",
       "    </tr>\n",
       "    <tr>\n",
       "      <th>3</th>\n",
       "      <td>[GENDER_ENG:Male, OUTCOME_ENG:Unknown]</td>\n",
       "      <td>[PT_NAME_ENG:Erythema, PT_NAME_ENG:Periorbital...</td>\n",
       "      <td>[DRUGNAME:NEOSPORIN OINTMENT, ACTIVE_INGREDIEN...</td>\n",
       "    </tr>\n",
       "  </tbody>\n",
       "</table>\n",
       "</div>"
      ],
      "text/plain": [
       "                                                  0  \\\n",
       "REPORT_ID                                             \n",
       "1          [GENDER_ENG:Female, OUTCOME_ENG:Unknown]   \n",
       "2          [GENDER_ENG:Female, OUTCOME_ENG:Unknown]   \n",
       "3            [GENDER_ENG:Male, OUTCOME_ENG:Unknown]   \n",
       "\n",
       "                                                           1  \\\n",
       "REPORT_ID                                                      \n",
       "1                 [PT_NAME_ENG:Pruritus, PT_NAME_ENG:Oedema]   \n",
       "2                                    [PT_NAME_ENG:Urticaria]   \n",
       "3          [PT_NAME_ENG:Erythema, PT_NAME_ENG:Periorbital...   \n",
       "\n",
       "                                                           2  \n",
       "REPORT_ID                                                     \n",
       "1          [DRUGNAME:GANTRISIN, ACTIVE_INGREDIENT_NAME:su...  \n",
       "2          [DRUGNAME:PENBRITIN, ACTIVE_INGREDIENT_NAME:am...  \n",
       "3          [DRUGNAME:NEOSPORIN OINTMENT, ACTIVE_INGREDIEN...  "
      ]
     },
     "execution_count": 21,
     "metadata": {},
     "output_type": "execute_result"
    }
   ],
   "source": [
    "joined_df = pd.concat([report_list, reaction_list, report_drug_ingredient_list], axis='columns', join='inner')\n",
    "# Use this code if you are doing an outer join\n",
    "#for column in joined_df.columns:\n",
    "#    joined_df[column] = joined_df[column].apply(lambda x: x if isinstance(x, list) else [])\n",
    "print(f'{joined_df.shape[0]} records joined')\n",
    "joined_df.head(3)"
   ]
  },
  {
   "cell_type": "markdown",
   "metadata": {},
   "source": [
    "We see that this has resulted in a pandas dataframe with one column derived from each of our series and an index that is our <code>REPORT_ID</code>."
   ]
  },
  {
   "cell_type": "markdown",
   "metadata": {},
   "source": [
    "We'd now like to combine all the lists in the columns of this data frame into one big list per <code>REPORT_ID</code>.  To do this we will take advantage of the fact that python lists have overloaded the addition opperator with concatination. Adding two lists together just merges them in exactly the way we'd like.  As such, what we'd like to do with our dataframe is just sum up all the values (i.e. lists) in every row.  Adding two Series (i.e. columns) together just performs elementwise addition on all their elements."
   ]
  },
  {
   "cell_type": "code",
   "execution_count": 22,
   "metadata": {},
   "outputs": [],
   "source": [
    "joined_report = joined_df[0] + joined_df[1] + joined_df[2]"
   ]
  },
  {
   "cell_type": "code",
   "execution_count": 23,
   "metadata": {},
   "outputs": [
    {
     "data": {
      "text/plain": [
       "REPORT_ID\n",
       "1    [GENDER_ENG:Female, OUTCOME_ENG:Unknown, PT_NA...\n",
       "2    [GENDER_ENG:Female, OUTCOME_ENG:Unknown, PT_NA...\n",
       "3    [GENDER_ENG:Male, OUTCOME_ENG:Unknown, PT_NAME...\n",
       "dtype: object"
      ]
     },
     "execution_count": 23,
     "metadata": {},
     "output_type": "execute_result"
    }
   ],
   "source": [
    "joined_report.head(3)"
   ]
  },
  {
   "cell_type": "markdown",
   "metadata": {},
   "source": [
    "Here is a quick summary of the distribution of how many reports have however many tokens.  You see that many of our reports have between 4 and 20 tokens while one of them has as many as 825 tokens associated with it.  As we saw earlier this large list is mostly made up of active drug ingredients."
   ]
  },
  {
   "cell_type": "code",
   "execution_count": 24,
   "metadata": {},
   "outputs": [
    {
     "data": {
      "text/plain": [
       "4       4606\n",
       "5      42023\n",
       "6      50680\n",
       "7      48234\n",
       "8      48886\n",
       "       ...  \n",
       "695        1\n",
       "698        1\n",
       "730        1\n",
       "798        1\n",
       "825        1\n",
       "Length: 407, dtype: int64"
      ]
     },
     "execution_count": 24,
     "metadata": {},
     "output_type": "execute_result"
    }
   ],
   "source": [
    "joined_report.apply(len).value_counts().sort_index()"
   ]
  },
  {
   "cell_type": "markdown",
   "metadata": {},
   "source": [
    "Now we have a series with one entry for each <code>REPORT_ID</code> and a value that is a list of all the categorical descriptors we've derived from multiple columns across multiple tables.  \n",
    "\n",
    "In the above analysis we have constructed our reprsentation via joining multiple seperate CategoricalColumnTransformer operations.  Alternatively, we could have done this by building one large table containing all the columns of interest to us and then applying our CategoricalColumnTransformer to that single larger table.  It is generally preferable to reduce the size of our tables via grouping and filtering before joining them together which is why we went with the approach we have here. That said, depending on your data base and compute access you could easily take a different approach.  "
   ]
  },
  {
   "cell_type": "markdown",
   "metadata": {},
   "source": [
    "# Ngram Vectorizer\n",
    "\n",
    "In order to quickly and efficiently compare variable length sequences of categorical tokens we will convert into a sparse matrix format.  This is a commonly practice in natural language processing where documents are often described as a 'bag of words'.  In essence we have a single column for each unique categorical value in our list.  That column has a one in it if that categorical value is present in our list.  The sparse representation simply means that we don't encode any of the multitude of zeroes that would otherwise be contained in this matrix.  \n",
    "\n",
    "We will do this with our NgramVectorizer.  This is the simplest use case for our Ngram vectorizer with the default value of N=1.  "
   ]
  },
  {
   "cell_type": "code",
   "execution_count": 25,
   "metadata": {},
   "outputs": [],
   "source": [
    "record_id_labels = list(joined_report.index)"
   ]
  },
  {
   "cell_type": "code",
   "execution_count": 26,
   "metadata": {},
   "outputs": [
    {
     "name": "stdout",
     "output_type": "stream",
     "text": [
      "ngram is now a <class 'scipy.sparse.csr.csr_matrix'> object of with 870240 rows and 55989 columns\n",
      "The important thing to note is that it only contains 22122795 values representing its non-zero entries.\n",
      "That is significantly sparser than its dense matrix representation which would contain 48723867360 entries.\n",
      "That is only about 0.0454 percent of the entries.\n",
      "CPU times: user 1min 23s, sys: 712 ms, total: 1min 23s\n",
      "Wall time: 1min 23s\n"
     ]
    }
   ],
   "source": [
    "%%time\n",
    "ngram_vectorizer = NgramVectorizer()\n",
    "sparse_reports = ngram_vectorizer.fit_transform(list(joined_report))\n",
    "print(f\"ngram is now a {type(sparse_reports)} object of with {sparse_reports.shape[0]} rows and {sparse_reports.shape[1]} columns\\n\"\n",
    "     f\"The important thing to note is that it only contains {sparse_reports.nnz} values representing its non-zero entries.\\n\"\n",
    "     f\"That is significantly sparser than its dense matrix representation which would contain {sparse_reports.shape[0]*sparse_reports.shape[1]} entries.\\n\"\n",
    "     f\"That is only about {100*sparse_reports.nnz/(sparse_reports.shape[0]*sparse_reports.shape[1]):.4f} percent of the entries.\")"
   ]
  },
  {
   "cell_type": "markdown",
   "metadata": {},
   "source": [
    "# Count the matches\n",
    "\n",
    "The simplest similarity score one can think of would be to simply count the number of categorical values two records have in common.  You might be tempted to normalize this score via something like Jaccard and there are certainly cases where that might be a good idea.  That said, if we were looking for likely duplicates in the presence of missing data we might like two records that share 15 out of 20 existing categorical fields to be considered far more similar than two records that share only 3 out of their 4 existing categorical fields.  In the case of constant number of fields and no missing data this is, of course, a non-issue.  In that case a metric like hamming distance is probably more appropriate."
   ]
  },
  {
   "cell_type": "markdown",
   "metadata": {},
   "source": [
    "Let's quickly look at the column names of our first five columns."
   ]
  },
  {
   "cell_type": "code",
   "execution_count": 27,
   "metadata": {},
   "outputs": [
    {
     "name": "stdout",
     "output_type": "stream",
     "text": [
      "column 0 is called ACTIVE_INGREDIENT_NAME: aminocaproic acid\n",
      "column 1 is called ACTIVE_INGREDIENT_NAME:&1-proteinase inhibitor (human)\n",
      "column 2 is called ACTIVE_INGREDIENT_NAME:(+)-1,2-dithiolane-3-pentanoic acid\n",
      "column 3 is called ACTIVE_INGREDIENT_NAME:(+)-camphor\n",
      "column 4 is called ACTIVE_INGREDIENT_NAME:(+-)-1,2-dithiolane-3-pentanoic acid\n"
     ]
    }
   ],
   "source": [
    "for column_index in range(5):\n",
    "    print(f\"column {column_index} is called {ngram_vectorizer.column_index_dictionary_[column_index]}\")"
   ]
  },
  {
   "cell_type": "markdown",
   "metadata": {},
   "source": [
    "Now a quick bit of code to look at how many non-missing entries we had in each row of our sparse matrix."
   ]
  },
  {
   "cell_type": "code",
   "execution_count": 28,
   "metadata": {},
   "outputs": [
    {
     "data": {
      "image/png": "[encoded data removed]",
      "text/plain": [
       "<Figure size 432x288 with 1 Axes>"
      ]
     },
     "metadata": {
      "needs_background": "light"
     },
     "output_type": "display_data"
    }
   ],
   "source": [
    "row_counts = pd.Series(np.array(sparse_reports.sum(1)).flatten())\n",
    "row_counts.hist(bins=20);"
   ]
  },
  {
   "cell_type": "markdown",
   "metadata": {},
   "source": [
    "It's also often informative to look at the distribution column sums for your sparse matrix.  This is often referred to in mathematical circles as your column marginals.  Because these are often exponentially distributed we'll look at them on a logarithmic scale with a base of 10."
   ]
  },
  {
   "cell_type": "code",
   "execution_count": 29,
   "metadata": {},
   "outputs": [
    {
     "data": {
      "text/plain": [
       "1.0         12843\n",
       "2.0          5666\n",
       "3.0          3446\n",
       "4.0          2466\n",
       "5.0          1822\n",
       "            ...  \n",
       "168098.0        1\n",
       "195608.0        1\n",
       "317727.0        1\n",
       "431890.0        1\n",
       "506233.0        1\n",
       "Length: 2408, dtype: int64"
      ]
     },
     "execution_count": 29,
     "metadata": {},
     "output_type": "execute_result"
    },
    {
     "data": {
      "image/png": "[encoded data removed]",
      "text/plain": [
       "<Figure size 432x288 with 1 Axes>"
      ]
     },
     "metadata": {
      "needs_background": "light"
     },
     "output_type": "display_data"
    }
   ],
   "source": [
    "pd.Series(np.log10(np.array(sparse_reports.sum(0)).flatten())).hist(bins=19);#.value_counts().sort_index()\n",
    "pd.Series((np.array(sparse_reports.sum(0)).flatten())).value_counts().sort_index()"
   ]
  },
  {
   "cell_type": "markdown",
   "metadata": {},
   "source": [
    "We quickly see that over a fifth of our columns only showed up a single time (remember log10(1) = 0).  This is likely due to the fine level of resolution being used to describe the active ingredients.  A courser description of these active ingredients wouuld combine more ingredients and reduce the number of columns with only a single entry.  Alternatively, you could spend some time clustering the ingredients themselves together or embed them into their own vector space based on some other data.\n",
    "\n",
    "You also have columns which showed up in about 60% of our reports.  That shouldn't be surprising considering that two of our columns are associated with gender.  "
   ]
  },
  {
   "cell_type": "markdown",
   "metadata": {},
   "source": [
    "# Embedd our data into a metric space and visualize\n",
    "\n",
    "Now that we have a simple numeric sparse matrix representation of our data we can apply a variety of dimension reduction techniques for reducing these approimately fifty five thousand dimensional vectors down to something more manageable.  \n",
    "\n",
    "For the purposes of this notebook we are going to simply combine our InformationWeightTransformer with our UMAP algorithms.  InformationWeightTransformer will re-weight our columns to account for their marginal distributions across our data.  It can thought of as performing a similar function to the populr Term Frequency Inverse Document Frequency (TFIDF).  UMAP will attempt to preserve the local neighbourhood structure within our data and represent it within two dimensions for easy visualization and exploration."
   ]
  },
  {
   "cell_type": "code",
   "execution_count": 30,
   "metadata": {},
   "outputs": [],
   "source": [
    "info_weight_matrix = InformationWeightTransformer().fit_transform(sparse_reports)\n",
    "report_matrix = TruncatedSVD(n_components=64).fit_transform(info_weight_matrix)"
   ]
  },
  {
   "cell_type": "markdown",
   "metadata": {},
   "source": [
    "Now let's map these down into a two dimensional Euclidean space for visualization.  One should note that since we are embedding over 800,000 records this last step can be quite memory and time intensive.  For the sake of efficiency we will sample our matrix down to a smaller number of records and only visualize those."
   ]
  },
  {
   "cell_type": "code",
   "execution_count": 31,
   "metadata": {},
   "outputs": [
    {
     "name": "stdout",
     "output_type": "stream",
     "text": [
      "CPU times: user 3min, sys: 3.01 s, total: 3min 3s\n",
      "Wall time: 38.3 s\n"
     ]
    }
   ],
   "source": [
    "%%time\n",
    "selected = sample(range(report_matrix.shape[0]), 40000)\n",
    "reducer = umap.UMAP(metric='cosine')\n",
    "embedding = reducer.fit_transform(report_matrix[selected])"
   ]
  },
  {
   "cell_type": "markdown",
   "metadata": {},
   "source": [
    "Here is a scatter plot of our sampled reports.  We've shaded each point by the log of the number of categorical values used to describe our report.  There is quite a lot of interesting structure contained within even this small sample of our data.  A more detailed follow up analysis with a larger sample and an interactive plot would be a good next step for an interested data scientist."
   ]
  },
  {
   "cell_type": "code",
   "execution_count": 32,
   "metadata": {},
   "outputs": [
    {
     "data": {
      "image/png": "[encoded data removed]",
      "text/plain": [
       "<Figure size 800x800 with 1 Axes>"
      ]
     },
     "metadata": {},
     "output_type": "display_data"
    }
   ],
   "source": [
    "umap.plot.points(reducer, theme='fire', values=np.log10(row_counts[selected]));"
   ]
  }
 ],
 "metadata": {
  "kernelspec": {
   "display_name": "vectorizer",
   "language": "python",
   "name": "vectorizer"
  },
  "language_info": {
   "codemirror_mode": {
    "name": "ipython",
    "version": 3
   },
   "file_extension": ".py",
   "mimetype": "text/x-python",
   "name": "python",
   "nbconvert_exporter": "python",
   "pygments_lexer": "ipython3",
   "version": "3.9.5"
  }
 },
 "nbformat": 4,
 "nbformat_minor": 4
}
